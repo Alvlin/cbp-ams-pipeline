{
 "cells": [
  {
   "cell_type": "markdown",
   "metadata": {},
   "source": [
    "# Sample Data Mungling Playground"
   ]
  },
  {
   "cell_type": "code",
   "execution_count": null,
   "metadata": {},
   "outputs": [],
   "source": [
    "\"\"\"\n",
    "Loaded in SAMPLE DATA all into a List of DataFrames\n",
    "Print: to see the index for each Entity\n",
    "\"\"\"\n",
    "dfs = gen_dfs(ospath='SAMPLE_PATH', path='')\n",
    "for i in range(len(dfs)):\n",
    "    print(f'({i}, {dfs[i].name})')             \n",
    "\n",
    "# we only need to check data for:billgen - container  -  header  -  tariff     \n",
    "#                                  [0]        [3]         [6]        [10]         "
   ]
  },
  {
   "cell_type": "code",
   "execution_count": null,
   "metadata": {},
   "outputs": [],
   "source": [
    "\"\"\"\n",
    "Display the attributes of an Entity at given index\n",
    "Parameters:\n",
    "    indx : integer value of index to view\n",
    "\n",
    "Returns: None\n",
    "\"\"\"\n",
    "def smpl_contents(indx):\n",
    "    print(dfs[indx].name)\n",
    "    print(dfs[indx].columns)\n",
    "\n",
    "indx = 10\n",
    "smpl_contents(indx)\n",
    "dfs[indx].head()\n",
    "# dfs[indx] = drop_dfcols(dfs[indx], rm_billgen)        # 0\n",
    "# dfs[indx] = drop_dfcols(dfs[indx], rm_container)      # 3\n",
    "# dfs[indx] = drop_dfcols(dfs[indx], rm_header)         # 6\n",
    "dfs[indx] = drop_dfcols(dfs[indx], rm_tariff)         # 10\n",
    "cols_with_null(dfs[indx])\n",
    "# dfs = merge_dfs(dfs)\n",
    "# d = (dfs[0].groupby(['voyage_number']).size().reset_index(name='counts')).sort_values(by='counts',ascending=False)\n",
    "# d"
   ]
  },
  {
   "cell_type": "code",
   "execution_count": null,
   "metadata": {},
   "outputs": [],
   "source": [
    "occurence = df.groupby(['container_length', 'container_height', 'container_width']).size().reset_index(name='counts')\n",
    "dfs.describe()"
   ]
  }
 ],
 "metadata": {
  "language_info": {
   "name": "python"
  }
 },
 "nbformat": 4,
 "nbformat_minor": 2
}
